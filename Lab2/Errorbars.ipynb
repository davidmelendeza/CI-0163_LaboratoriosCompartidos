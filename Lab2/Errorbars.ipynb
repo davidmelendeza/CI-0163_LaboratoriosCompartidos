{
  "nbformat": 4,
  "nbformat_minor": 0,
  "metadata": {
    "colab": {
      "provenance": []
    },
    "kernelspec": {
      "name": "python3",
      "display_name": "Python 3"
    },
    "language_info": {
      "name": "python"
    }
  },
  "cells": [
    {
      "cell_type": "markdown",
      "source": [
        "## This notebook will discuss the following:\n",
        "* [Visualizing Errors](#scrollTo=ftkYRExDuqe9)\n",
        "* [Basic Errorbars](#scrollTo=rqXEFtG6uqe_)\n",
        "* [Ejercicios de visualización de errores](#scrollTo=UXZ9enXE4jgZ&line=1&uniqifier=1)"
      ],
      "metadata": {
        "id": "fogQhcHW4AC3"
      }
    },
    {
      "cell_type": "markdown",
      "metadata": {
        "id": "ftkYRExDuqe9"
      },
      "source": [
        "# Visualizing Errors"
      ]
    },
    {
      "cell_type": "markdown",
      "metadata": {
        "id": "WWvOKi0Ouqe_"
      },
      "source": [
        "For any scientific measurement, accurate accounting for errors is nearly as important, if not more important, than accurate reporting of the number itself.\n",
        "For example, imagine that I am using some astrophysical observations to estimate the Hubble Constant, the local measurement of the expansion rate of the Universe.\n",
        "I know that the current literature suggests a value of around 71 (km/s)/Mpc, and I measure a value of 74 (km/s)/Mpc with my method. Are the values consistent? The only correct answer, given this information, is this: there is no way to know.\n",
        "\n",
        "Suppose I augment this information with reported uncertainties: the current literature suggests a value of around 71 $\\pm$ 2.5 (km/s)/Mpc, and my method has measured a value of 74 $\\pm$ 5 (km/s)/Mpc. Now are the values consistent? That is a question that can be quantitatively answered.\n",
        "\n",
        "In visualization of data and results, showing these errors effectively can make a plot convey much more complete information."
      ]
    },
    {
      "cell_type": "markdown",
      "metadata": {
        "id": "rqXEFtG6uqe_"
      },
      "source": [
        "## Basic Errorbars\n",
        "\n",
        "A basic errorbar can be created with a single Matplotlib function call:"
      ]
    },
    {
      "cell_type": "code",
      "execution_count": null,
      "metadata": {
        "id": "wYvcbRxkuqfA"
      },
      "outputs": [],
      "source": [
        "%matplotlib inline\n",
        "import matplotlib.pyplot as plt\n",
        "import numpy as np\n",
        "import seaborn as sns\n",
        "sns.set_theme()"
      ]
    },
    {
      "cell_type": "code",
      "execution_count": null,
      "metadata": {
        "id": "GhDY0HcjuqfF"
      },
      "outputs": [],
      "source": [
        "x = np.linspace(0, 10, 50)\n",
        "dy = 0.8\n",
        "y = np.sin(x) + dy * np.random.randn(50)\n",
        "\n",
        "plt.errorbar(x, y, yerr=dy, fmt='.k');"
      ]
    },
    {
      "cell_type": "markdown",
      "metadata": {
        "id": "izePQht-uqfK"
      },
      "source": [
        "Here the ``fmt`` is a format code controlling the appearance of lines and points, and has the same syntax as the shorthand used in ``plt.plot``.\n",
        "\n",
        "In addition to these basic options, the ``errorbar`` function has many options to fine-tune the outputs.\n",
        "Using these additional options you can easily customize the aesthetics of your errorbar plot.\n",
        "I often find it helpful, especially in crowded plots, to make the errorbars lighter than the points themselves:"
      ]
    },
    {
      "cell_type": "code",
      "execution_count": null,
      "metadata": {
        "id": "z3rjoYcGuqfL"
      },
      "outputs": [],
      "source": [
        "plt.errorbar(x, y, yerr=dy, fmt='o', color='black',\n",
        "             ecolor='lightgray', elinewidth=3, capsize=0);"
      ]
    },
    {
      "cell_type": "markdown",
      "metadata": {
        "id": "M9fPyYVyuqfO"
      },
      "source": [
        "In addition to these options, you can also specify horizontal errorbars (``xerr``), one-sided errorbars, and many other variants.\n",
        "For more information on the options available, refer to the docstring of ``plt.errorbar``."
      ]
    },
    {
      "cell_type": "markdown",
      "source": [
        "#Ejercicios de visualización de errores"
      ],
      "metadata": {
        "id": "UXZ9enXE4jgZ"
      }
    },
    {
      "cell_type": "markdown",
      "source": [
        "1) Utilizando un conjunto de 20 puntos aleatorios (x, y), visualicelos utilizando errorbars con 3 gráficos que difieran en colores, linewith y capsize. Coloque etiquetas para ``x`` y ``y`` y un título al gráfico:"
      ],
      "metadata": {
        "id": "SxI6OlJJLRub"
      }
    },
    {
      "cell_type": "code",
      "source": [],
      "metadata": {
        "id": "yNF3BaYULSCK"
      },
      "execution_count": null,
      "outputs": []
    },
    {
      "cell_type": "code",
      "source": [],
      "metadata": {
        "id": "MklaeHsoOwsl"
      },
      "execution_count": null,
      "outputs": []
    },
    {
      "cell_type": "code",
      "source": [],
      "metadata": {
        "id": "jg7wpXVXOwjQ"
      },
      "execution_count": null,
      "outputs": []
    }
  ]
}